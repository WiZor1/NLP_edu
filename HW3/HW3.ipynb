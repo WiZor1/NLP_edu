{
 "cells": [
  {
   "cell_type": "code",
   "execution_count": 16,
   "metadata": {},
   "outputs": [],
   "source": [
    "import numpy as np\n",
    "import pandas as pd\n",
    "\n",
    "import dask.dataframe as dd\n",
    "\n",
    "import string\n",
    "from natasha import (\n",
    "    Segmenter,\n",
    "    MorphVocab,\n",
    "    NewsEmbedding,\n",
    "    NewsMorphTagger,\n",
    "    Doc\n",
    ")\n",
    "import razdel\n",
    "\n",
    "from nltk import tokenize as tknz\n",
    "from nltk.stem import WordNetLemmatizer\n",
    "from nltk.corpus import stopwords\n",
    "\n",
    "from gensim.models import Word2Vec, FastText\n",
    "import gensim.downloader as api\n",
    "import annoy"
   ]
  },
  {
   "cell_type": "markdown",
   "metadata": {},
   "source": [
    "##  Задания\n",
    "1. объединить в одну выборку\n",
    "2. на основе word2vec/fasttext/glove/слоя Embedding реализовать метод поиска ближайших твитов\n",
    "(на вход метода должен приходить запрос (какой-то твит, вопрос) и количество вариантов вывода к примеру 5-ть, ваш метод должен возвращать 5-ть ближайших твитов к этому запросу)\n",
    "3. Проверить насколько хорошо работают подходы\n",
    "\n",
    "--------"
   ]
  },
  {
   "cell_type": "markdown",
   "metadata": {},
   "source": [
    "О полях датасета:\n",
    "- дата публикации;\n",
    "- имя автора;\n",
    "- текст твита;\n",
    "- класс, к которому принадлежит текст (положительный, отрицательный, нейтральный);\n",
    "- количество добавлений сообщения в избранное;\n",
    "- количество ретвитов (количество копирований этого сообщения другими пользователями);\n",
    "- количество друзей пользователя;\n",
    "- количество пользователей, у которых данный юзер в друзьях (количество фоловеров);\n",
    "- количество листов, в которых состоит пользователь."
   ]
  },
  {
   "cell_type": "code",
   "execution_count": 2,
   "metadata": {},
   "outputs": [],
   "source": [
    "columns = ['id',\n",
    "           'date',\n",
    "           'author',\n",
    "           'tweet',\n",
    "           'class',\n",
    "           'favorite_count',\n",
    "           'retweet_cnt',\n",
    "           'authors_friend_cnt',\n",
    "           'followers_cnt',\n",
    "           'groups_cnt'\n",
    "          ]"
   ]
  },
  {
   "cell_type": "code",
   "execution_count": 3,
   "metadata": {},
   "outputs": [
    {
     "name": "stderr",
     "output_type": "stream",
     "text": [
      "C:\\Users\\WiZor\\AppData\\Roaming\\Python\\Python38\\site-packages\\pandas\\util\\_decorators.py:311: ParserWarning: Length of header or names does not match length of data. This leads to a loss of data with index_col=False.\n",
      "  return func(*args, **kwargs)\n"
     ]
    }
   ],
   "source": [
    "df_pos = pd.read_csv('positive.csv', sep=';', names=columns, index_col=False)\n",
    "df_neg = pd.read_csv('negative.csv', sep=';', names=columns, index_col=False)"
   ]
  },
  {
   "cell_type": "code",
   "execution_count": 4,
   "metadata": {},
   "outputs": [
    {
     "data": {
      "text/html": [
       "<div>\n",
       "<style scoped>\n",
       "    .dataframe tbody tr th:only-of-type {\n",
       "        vertical-align: middle;\n",
       "    }\n",
       "\n",
       "    .dataframe tbody tr th {\n",
       "        vertical-align: top;\n",
       "    }\n",
       "\n",
       "    .dataframe thead th {\n",
       "        text-align: right;\n",
       "    }\n",
       "</style>\n",
       "<table border=\"1\" class=\"dataframe\">\n",
       "  <thead>\n",
       "    <tr style=\"text-align: right;\">\n",
       "      <th></th>\n",
       "      <th>id</th>\n",
       "      <th>date</th>\n",
       "      <th>author</th>\n",
       "      <th>tweet</th>\n",
       "      <th>class</th>\n",
       "      <th>favorite_count</th>\n",
       "      <th>retweet_cnt</th>\n",
       "      <th>authors_friend_cnt</th>\n",
       "      <th>followers_cnt</th>\n",
       "      <th>groups_cnt</th>\n",
       "    </tr>\n",
       "  </thead>\n",
       "  <tbody>\n",
       "    <tr>\n",
       "      <th>0</th>\n",
       "      <td>408906692374446080</td>\n",
       "      <td>2013-12-06 10:32:07</td>\n",
       "      <td>pleease_shut_up</td>\n",
       "      <td>@first_timee хоть я и школота, но поверь, у на...</td>\n",
       "      <td>1</td>\n",
       "      <td>0</td>\n",
       "      <td>0</td>\n",
       "      <td>0</td>\n",
       "      <td>7569</td>\n",
       "      <td>62</td>\n",
       "    </tr>\n",
       "    <tr>\n",
       "      <th>1</th>\n",
       "      <td>408906692693221377</td>\n",
       "      <td>2013-12-06 10:32:07</td>\n",
       "      <td>alinakirpicheva</td>\n",
       "      <td>Да, все-таки он немного похож на него. Но мой ...</td>\n",
       "      <td>1</td>\n",
       "      <td>0</td>\n",
       "      <td>0</td>\n",
       "      <td>0</td>\n",
       "      <td>11825</td>\n",
       "      <td>59</td>\n",
       "    </tr>\n",
       "    <tr>\n",
       "      <th>2</th>\n",
       "      <td>408906695083954177</td>\n",
       "      <td>2013-12-06 10:32:07</td>\n",
       "      <td>EvgeshaRe</td>\n",
       "      <td>RT @KatiaCheh: Ну ты идиотка) я испугалась за ...</td>\n",
       "      <td>1</td>\n",
       "      <td>0</td>\n",
       "      <td>1</td>\n",
       "      <td>0</td>\n",
       "      <td>1273</td>\n",
       "      <td>26</td>\n",
       "    </tr>\n",
       "    <tr>\n",
       "      <th>3</th>\n",
       "      <td>408906695356973056</td>\n",
       "      <td>2013-12-06 10:32:07</td>\n",
       "      <td>ikonnikova_21</td>\n",
       "      <td>RT @digger2912: \"Кто то в углу сидит и погибае...</td>\n",
       "      <td>1</td>\n",
       "      <td>0</td>\n",
       "      <td>1</td>\n",
       "      <td>0</td>\n",
       "      <td>1549</td>\n",
       "      <td>19</td>\n",
       "    </tr>\n",
       "    <tr>\n",
       "      <th>4</th>\n",
       "      <td>408906761416867842</td>\n",
       "      <td>2013-12-06 10:32:23</td>\n",
       "      <td>JumpyAlex</td>\n",
       "      <td>@irina_dyshkant Вот что значит страшилка :D\\nН...</td>\n",
       "      <td>1</td>\n",
       "      <td>0</td>\n",
       "      <td>0</td>\n",
       "      <td>0</td>\n",
       "      <td>597</td>\n",
       "      <td>16</td>\n",
       "    </tr>\n",
       "  </tbody>\n",
       "</table>\n",
       "</div>"
      ],
      "text/plain": [
       "                   id                date           author  \\\n",
       "0  408906692374446080 2013-12-06 10:32:07  pleease_shut_up   \n",
       "1  408906692693221377 2013-12-06 10:32:07  alinakirpicheva   \n",
       "2  408906695083954177 2013-12-06 10:32:07        EvgeshaRe   \n",
       "3  408906695356973056 2013-12-06 10:32:07    ikonnikova_21   \n",
       "4  408906761416867842 2013-12-06 10:32:23        JumpyAlex   \n",
       "\n",
       "                                               tweet  class  favorite_count  \\\n",
       "0  @first_timee хоть я и школота, но поверь, у на...      1               0   \n",
       "1  Да, все-таки он немного похож на него. Но мой ...      1               0   \n",
       "2  RT @KatiaCheh: Ну ты идиотка) я испугалась за ...      1               0   \n",
       "3  RT @digger2912: \"Кто то в углу сидит и погибае...      1               0   \n",
       "4  @irina_dyshkant Вот что значит страшилка :D\\nН...      1               0   \n",
       "\n",
       "   retweet_cnt  authors_friend_cnt  followers_cnt  groups_cnt  \n",
       "0            0                   0           7569          62  \n",
       "1            0                   0          11825          59  \n",
       "2            1                   0           1273          26  \n",
       "3            1                   0           1549          19  \n",
       "4            0                   0            597          16  "
      ]
     },
     "execution_count": 4,
     "metadata": {},
     "output_type": "execute_result"
    }
   ],
   "source": [
    "df = pd.concat([df_pos, df_neg])\n",
    "df.reset_index(inplace=True, drop=True)\n",
    "df['date'] = pd.to_datetime(df['date'], unit='s')\n",
    "df.head()"
   ]
  },
  {
   "cell_type": "code",
   "execution_count": 5,
   "metadata": {},
   "outputs": [
    {
     "name": "stdout",
     "output_type": "stream",
     "text": [
      "<class 'pandas.core.frame.DataFrame'>\n",
      "RangeIndex: 226834 entries, 0 to 226833\n",
      "Data columns (total 10 columns):\n",
      " #   Column              Non-Null Count   Dtype         \n",
      "---  ------              --------------   -----         \n",
      " 0   id                  226834 non-null  int64         \n",
      " 1   date                226834 non-null  datetime64[ns]\n",
      " 2   author              226834 non-null  object        \n",
      " 3   tweet               226834 non-null  object        \n",
      " 4   class               226834 non-null  int64         \n",
      " 5   favorite_count      226834 non-null  int64         \n",
      " 6   retweet_cnt         226834 non-null  int64         \n",
      " 7   authors_friend_cnt  226834 non-null  int64         \n",
      " 8   followers_cnt       226834 non-null  int64         \n",
      " 9   groups_cnt          226834 non-null  int64         \n",
      "dtypes: datetime64[ns](1), int64(7), object(2)\n",
      "memory usage: 17.3+ MB\n"
     ]
    }
   ],
   "source": [
    "df.info()"
   ]
  },
  {
   "cell_type": "markdown",
   "metadata": {},
   "source": [
    "Класс `TextBuilder` будет реализовывать предварительную обработку текста, применяя ее ко всему датасету с помощью трансляции его к `dask` датасету."
   ]
  },
  {
   "cell_type": "code",
   "execution_count": 6,
   "metadata": {},
   "outputs": [],
   "source": [
    "class TextBuilder():\n",
    "    def __init__(self, df, stop_words=None, text_column='tweet', new_name='prepared_tweet'):\n",
    "        self._df = df\n",
    "        self._ddf = dd.from_pandas(df, npartitions=20)\n",
    "        self._text_column = text_column\n",
    "        self._new_name = new_name\n",
    "        self._seg = Segmenter()\n",
    "        self._emb = NewsEmbedding()\n",
    "        self._tagger = NewsMorphTagger(self._emb)\n",
    "        self._vocab = MorphVocab()\n",
    "        if stop_words is None:\n",
    "            stop_words = stopwords.words('russian') # + ['rt', '@'] # избыточно при условии len(token.lemma) > 2\n",
    "        self._stopwords = stop_words\n",
    "        \n",
    "    def row_prepare(self, text):\n",
    "        doc = Doc(text)\n",
    "        doc.segment(self._seg)\n",
    "        doc.tag_morph(self._tagger)\n",
    "        for token in doc.tokens:\n",
    "            token.lemmatize(self._vocab)\n",
    "        return [token.lemma for token in doc.tokens if token.pos != 'PUNCT'\n",
    "                                                        and token.lemma not in self._stopwords\n",
    "                                                        and len(token.lemma) > 2]\n",
    "    \n",
    "    def _apply_to_df(self, df):\n",
    "        return df.apply(self.row_prepare)\n",
    "    \n",
    "    def _dask_apply(self, f):\n",
    "        return self._ddf[self._text_column].map_partitions(f).compute()\n",
    "\n",
    "    def prepare(self):\n",
    "        self._ddf[self._new_name] = self._dask_apply(self._apply_to_df)\n",
    "        self._df = self._ddf.compute()\n",
    "        return self._df\n",
    "    \n",
    "    def df(self):\n",
    "        return self._df\n",
    "        "
   ]
  },
  {
   "cell_type": "code",
   "execution_count": 8,
   "metadata": {},
   "outputs": [
    {
     "name": "stdout",
     "output_type": "stream",
     "text": [
      "Wall time: 12min 16s\n"
     ]
    },
    {
     "data": {
      "text/html": [
       "<div>\n",
       "<style scoped>\n",
       "    .dataframe tbody tr th:only-of-type {\n",
       "        vertical-align: middle;\n",
       "    }\n",
       "\n",
       "    .dataframe tbody tr th {\n",
       "        vertical-align: top;\n",
       "    }\n",
       "\n",
       "    .dataframe thead th {\n",
       "        text-align: right;\n",
       "    }\n",
       "</style>\n",
       "<table border=\"1\" class=\"dataframe\">\n",
       "  <thead>\n",
       "    <tr style=\"text-align: right;\">\n",
       "      <th></th>\n",
       "      <th>id</th>\n",
       "      <th>date</th>\n",
       "      <th>author</th>\n",
       "      <th>tweet</th>\n",
       "      <th>class</th>\n",
       "      <th>favorite_count</th>\n",
       "      <th>retweet_cnt</th>\n",
       "      <th>authors_friend_cnt</th>\n",
       "      <th>followers_cnt</th>\n",
       "      <th>groups_cnt</th>\n",
       "      <th>prepared_tweet</th>\n",
       "    </tr>\n",
       "  </thead>\n",
       "  <tbody>\n",
       "    <tr>\n",
       "      <th>0</th>\n",
       "      <td>408906692374446080</td>\n",
       "      <td>2013-12-06 10:32:07</td>\n",
       "      <td>pleease_shut_up</td>\n",
       "      <td>@first_timee хоть я и школота, но поверь, у на...</td>\n",
       "      <td>1</td>\n",
       "      <td>0</td>\n",
       "      <td>0</td>\n",
       "      <td>0</td>\n",
       "      <td>7569</td>\n",
       "      <td>62</td>\n",
       "      <td>[first_timee, школоть, поверь, самый, общество...</td>\n",
       "    </tr>\n",
       "    <tr>\n",
       "      <th>1</th>\n",
       "      <td>408906692693221377</td>\n",
       "      <td>2013-12-06 10:32:07</td>\n",
       "      <td>alinakirpicheva</td>\n",
       "      <td>Да, все-таки он немного похож на него. Но мой ...</td>\n",
       "      <td>1</td>\n",
       "      <td>0</td>\n",
       "      <td>0</td>\n",
       "      <td>0</td>\n",
       "      <td>11825</td>\n",
       "      <td>59</td>\n",
       "      <td>[все-таки, немного, похожий, мальчик, весь, ра...</td>\n",
       "    </tr>\n",
       "    <tr>\n",
       "      <th>2</th>\n",
       "      <td>408906695083954177</td>\n",
       "      <td>2013-12-06 10:32:07</td>\n",
       "      <td>EvgeshaRe</td>\n",
       "      <td>RT @KatiaCheh: Ну ты идиотка) я испугалась за ...</td>\n",
       "      <td>1</td>\n",
       "      <td>0</td>\n",
       "      <td>1</td>\n",
       "      <td>0</td>\n",
       "      <td>1273</td>\n",
       "      <td>26</td>\n",
       "      <td>[katiacheh, идиотка, испугаться]</td>\n",
       "    </tr>\n",
       "    <tr>\n",
       "      <th>3</th>\n",
       "      <td>408906695356973056</td>\n",
       "      <td>2013-12-06 10:32:07</td>\n",
       "      <td>ikonnikova_21</td>\n",
       "      <td>RT @digger2912: \"Кто то в углу сидит и погибае...</td>\n",
       "      <td>1</td>\n",
       "      <td>0</td>\n",
       "      <td>1</td>\n",
       "      <td>0</td>\n",
       "      <td>1549</td>\n",
       "      <td>19</td>\n",
       "      <td>[digger, 2912, угол, сидеть, погибать, голод, ...</td>\n",
       "    </tr>\n",
       "    <tr>\n",
       "      <th>4</th>\n",
       "      <td>408906761416867842</td>\n",
       "      <td>2013-12-06 10:32:23</td>\n",
       "      <td>JumpyAlex</td>\n",
       "      <td>@irina_dyshkant Вот что значит страшилка :D\\nН...</td>\n",
       "      <td>1</td>\n",
       "      <td>0</td>\n",
       "      <td>0</td>\n",
       "      <td>0</td>\n",
       "      <td>597</td>\n",
       "      <td>16</td>\n",
       "      <td>[irina_dyshkant, значить, страшилка, блин, пос...</td>\n",
       "    </tr>\n",
       "  </tbody>\n",
       "</table>\n",
       "</div>"
      ],
      "text/plain": [
       "                   id                date           author  \\\n",
       "0  408906692374446080 2013-12-06 10:32:07  pleease_shut_up   \n",
       "1  408906692693221377 2013-12-06 10:32:07  alinakirpicheva   \n",
       "2  408906695083954177 2013-12-06 10:32:07        EvgeshaRe   \n",
       "3  408906695356973056 2013-12-06 10:32:07    ikonnikova_21   \n",
       "4  408906761416867842 2013-12-06 10:32:23        JumpyAlex   \n",
       "\n",
       "                                               tweet  class  favorite_count  \\\n",
       "0  @first_timee хоть я и школота, но поверь, у на...      1               0   \n",
       "1  Да, все-таки он немного похож на него. Но мой ...      1               0   \n",
       "2  RT @KatiaCheh: Ну ты идиотка) я испугалась за ...      1               0   \n",
       "3  RT @digger2912: \"Кто то в углу сидит и погибае...      1               0   \n",
       "4  @irina_dyshkant Вот что значит страшилка :D\\nН...      1               0   \n",
       "\n",
       "   retweet_cnt  authors_friend_cnt  followers_cnt  groups_cnt  \\\n",
       "0            0                   0           7569          62   \n",
       "1            0                   0          11825          59   \n",
       "2            1                   0           1273          26   \n",
       "3            1                   0           1549          19   \n",
       "4            0                   0            597          16   \n",
       "\n",
       "                                      prepared_tweet  \n",
       "0  [first_timee, школоть, поверь, самый, общество...  \n",
       "1  [все-таки, немного, похожий, мальчик, весь, ра...  \n",
       "2                   [katiacheh, идиотка, испугаться]  \n",
       "3  [digger, 2912, угол, сидеть, погибать, голод, ...  \n",
       "4  [irina_dyshkant, значить, страшилка, блин, пос...  "
      ]
     },
     "execution_count": 8,
     "metadata": {},
     "output_type": "execute_result"
    }
   ],
   "source": [
    "%%time\n",
    "builder = TextBuilder(df)\n",
    "builder.prepare().head()"
   ]
  },
  {
   "cell_type": "code",
   "execution_count": 9,
   "metadata": {},
   "outputs": [
    {
     "data": {
      "text/plain": [
       "0         [first_timee, школоть, поверь, самый, общество...\n",
       "1         [все-таки, немного, похожий, мальчик, весь, ра...\n",
       "2                          [katiacheh, идиотка, испугаться]\n",
       "3         [digger, 2912, угол, сидеть, погибать, голод, ...\n",
       "4         [irina_dyshkant, значить, страшилка, блин, пос...\n",
       "                                ...                        \n",
       "226829        [каждый, хотеть, исправлять, http, qnoddqzuz]\n",
       "226830    [скучать, taaannyaaa, вправляет, мозг, весь, р...\n",
       "226831                            [школа, говно, это, идти]\n",
       "226832         [them, lisaberoud, тауриэль, грусть, обнять]\n",
       "226833    [такси, везти, работа, раздумывать, приплатить...\n",
       "Name: prepared_tweet, Length: 226834, dtype: object"
      ]
     },
     "execution_count": 9,
     "metadata": {},
     "output_type": "execute_result"
    }
   ],
   "source": [
    "sentences = builder.df()['prepared_tweet']\n",
    "sentences"
   ]
  },
  {
   "cell_type": "markdown",
   "metadata": {},
   "source": [
    "Оценим адекватность полученных самых популярных слов:"
   ]
  },
  {
   "cell_type": "code",
   "execution_count": 10,
   "metadata": {
    "scrolled": true
   },
   "outputs": [
    {
     "data": {
      "text/plain": [
       "{'http': 33072,\n",
       " 'весь': 29865,\n",
       " 'это': 22598,\n",
       " 'хотеть': 11790,\n",
       " 'день': 11086,\n",
       " 'мочь': 9159,\n",
       " 'сегодня': 8786,\n",
       " 'очень': 7484,\n",
       " 'знать': 6820,\n",
       " 'год': 6796,\n",
       " 'хороший': 6776,\n",
       " 'просто': 6534,\n",
       " 'человек': 5980,\n",
       " 'любить': 5840,\n",
       " 'свой': 5681,\n",
       " 'завтра': 5346,\n",
       " 'новый': 5316,\n",
       " 'вообще': 4780,\n",
       " 'делать': 4546,\n",
       " 'спасибо': 4384}"
      ]
     },
     "execution_count": 10,
     "metadata": {},
     "output_type": "execute_result"
    }
   ],
   "source": [
    "res = []\n",
    "w_counts = dict()\n",
    "for d in sentences:\n",
    "    res += d\n",
    "\n",
    "for w in res:\n",
    "    w_counts[w] = w_counts.get(w, 0) + 1\n",
    "\n",
    "# w_counts = sorted(w_counts, key=lambda x:)\n",
    "{k:v for k, v in sorted(w_counts.items(), key=lambda x: x[1], reverse=True)[:20]}"
   ]
  },
  {
   "cell_type": "markdown",
   "metadata": {},
   "source": [
    "Кроме `http` никаких подозрительных вариантов нет, но и его можно оставить, скорее это часть ссылок, которые были распарсены на составные части. По хорошему, если убирать этот токен, то необходимо убирать все его составляющие перед этапом токенизации (например, при нахождении `http` убрать все до следующего пробела, т.к. в самой ссылке обычно их нет). Но на текущем этапе этим заниматься не будем."
   ]
  },
  {
   "cell_type": "code",
   "execution_count": 11,
   "metadata": {},
   "outputs": [],
   "source": [
    "dim = 200\n",
    "\n",
    "modelW2V = Word2Vec(sentences=builder.df()['prepared_tweet'], vector_size=dim, window=5, min_count=1)\n",
    "modelFT = FastText(sentences=builder.df()['prepared_tweet'], vector_size=dim, window=5, min_count=1)\n",
    "\n",
    "# word_vectors = api.load('glove-twitter-100')"
   ]
  },
  {
   "cell_type": "code",
   "execution_count": 72,
   "metadata": {},
   "outputs": [
    {
     "data": {
      "text/html": [
       "<div>\n",
       "<style scoped>\n",
       "    .dataframe tbody tr th:only-of-type {\n",
       "        vertical-align: middle;\n",
       "    }\n",
       "\n",
       "    .dataframe tbody tr th {\n",
       "        vertical-align: top;\n",
       "    }\n",
       "\n",
       "    .dataframe thead th {\n",
       "        text-align: right;\n",
       "    }\n",
       "</style>\n",
       "<table border=\"1\" class=\"dataframe\">\n",
       "  <thead>\n",
       "    <tr style=\"text-align: right;\">\n",
       "      <th></th>\n",
       "      <th>id</th>\n",
       "      <th>date</th>\n",
       "      <th>author</th>\n",
       "      <th>tweet</th>\n",
       "      <th>class</th>\n",
       "      <th>favorite_count</th>\n",
       "      <th>retweet_cnt</th>\n",
       "      <th>authors_friend_cnt</th>\n",
       "      <th>followers_cnt</th>\n",
       "      <th>groups_cnt</th>\n",
       "      <th>prepared_tweet</th>\n",
       "    </tr>\n",
       "  </thead>\n",
       "  <tbody>\n",
       "    <tr>\n",
       "      <th>0</th>\n",
       "      <td>408906692374446080</td>\n",
       "      <td>2013-12-06 10:32:07</td>\n",
       "      <td>pleease_shut_up</td>\n",
       "      <td>@first_timee хоть я и школота, но поверь, у на...</td>\n",
       "      <td>1</td>\n",
       "      <td>0</td>\n",
       "      <td>0</td>\n",
       "      <td>0</td>\n",
       "      <td>7569</td>\n",
       "      <td>62</td>\n",
       "      <td>[first_timee, школоть, поверь, самый, общество...</td>\n",
       "    </tr>\n",
       "    <tr>\n",
       "      <th>1</th>\n",
       "      <td>408906692693221377</td>\n",
       "      <td>2013-12-06 10:32:07</td>\n",
       "      <td>alinakirpicheva</td>\n",
       "      <td>Да, все-таки он немного похож на него. Но мой ...</td>\n",
       "      <td>1</td>\n",
       "      <td>0</td>\n",
       "      <td>0</td>\n",
       "      <td>0</td>\n",
       "      <td>11825</td>\n",
       "      <td>59</td>\n",
       "      <td>[все-таки, немного, похожий, мальчик, весь, ра...</td>\n",
       "    </tr>\n",
       "    <tr>\n",
       "      <th>2</th>\n",
       "      <td>408906695083954177</td>\n",
       "      <td>2013-12-06 10:32:07</td>\n",
       "      <td>EvgeshaRe</td>\n",
       "      <td>RT @KatiaCheh: Ну ты идиотка) я испугалась за ...</td>\n",
       "      <td>1</td>\n",
       "      <td>0</td>\n",
       "      <td>1</td>\n",
       "      <td>0</td>\n",
       "      <td>1273</td>\n",
       "      <td>26</td>\n",
       "      <td>[katiacheh, идиотка, испугаться]</td>\n",
       "    </tr>\n",
       "    <tr>\n",
       "      <th>3</th>\n",
       "      <td>408906695356973056</td>\n",
       "      <td>2013-12-06 10:32:07</td>\n",
       "      <td>ikonnikova_21</td>\n",
       "      <td>RT @digger2912: \"Кто то в углу сидит и погибае...</td>\n",
       "      <td>1</td>\n",
       "      <td>0</td>\n",
       "      <td>1</td>\n",
       "      <td>0</td>\n",
       "      <td>1549</td>\n",
       "      <td>19</td>\n",
       "      <td>[digger, 2912, угол, сидеть, погибать, голод, ...</td>\n",
       "    </tr>\n",
       "    <tr>\n",
       "      <th>4</th>\n",
       "      <td>408906761416867842</td>\n",
       "      <td>2013-12-06 10:32:23</td>\n",
       "      <td>JumpyAlex</td>\n",
       "      <td>@irina_dyshkant Вот что значит страшилка :D\\nН...</td>\n",
       "      <td>1</td>\n",
       "      <td>0</td>\n",
       "      <td>0</td>\n",
       "      <td>0</td>\n",
       "      <td>597</td>\n",
       "      <td>16</td>\n",
       "      <td>[irina_dyshkant, значить, страшилка, блин, пос...</td>\n",
       "    </tr>\n",
       "  </tbody>\n",
       "</table>\n",
       "</div>"
      ],
      "text/plain": [
       "                   id                date           author  \\\n",
       "0  408906692374446080 2013-12-06 10:32:07  pleease_shut_up   \n",
       "1  408906692693221377 2013-12-06 10:32:07  alinakirpicheva   \n",
       "2  408906695083954177 2013-12-06 10:32:07        EvgeshaRe   \n",
       "3  408906695356973056 2013-12-06 10:32:07    ikonnikova_21   \n",
       "4  408906761416867842 2013-12-06 10:32:23        JumpyAlex   \n",
       "\n",
       "                                               tweet  class  favorite_count  \\\n",
       "0  @first_timee хоть я и школота, но поверь, у на...      1               0   \n",
       "1  Да, все-таки он немного похож на него. Но мой ...      1               0   \n",
       "2  RT @KatiaCheh: Ну ты идиотка) я испугалась за ...      1               0   \n",
       "3  RT @digger2912: \"Кто то в углу сидит и погибае...      1               0   \n",
       "4  @irina_dyshkant Вот что значит страшилка :D\\nН...      1               0   \n",
       "\n",
       "   retweet_cnt  authors_friend_cnt  followers_cnt  groups_cnt  \\\n",
       "0            0                   0           7569          62   \n",
       "1            0                   0          11825          59   \n",
       "2            1                   0           1273          26   \n",
       "3            1                   0           1549          19   \n",
       "4            0                   0            597          16   \n",
       "\n",
       "                                      prepared_tweet  \n",
       "0  [first_timee, школоть, поверь, самый, общество...  \n",
       "1  [все-таки, немного, похожий, мальчик, весь, ра...  \n",
       "2                   [katiacheh, идиотка, испугаться]  \n",
       "3  [digger, 2912, угол, сидеть, погибать, голод, ...  \n",
       "4  [irina_dyshkant, значить, страшилка, блин, пос...  "
      ]
     },
     "execution_count": 72,
     "metadata": {},
     "output_type": "execute_result"
    }
   ],
   "source": [
    "builder.df().head(5)"
   ]
  },
  {
   "cell_type": "code",
   "execution_count": 52,
   "metadata": {},
   "outputs": [],
   "source": [
    "def fill_index(series_tokens, series_origin, dim, n_clus):\n",
    "    \n",
    "    assert len(series_tokens) == len(series_origin), '\"series_tokens\" и \"series_origin\" должны быть одинаковой размерности'\n",
    "    w2v_index = annoy.AnnoyIndex(dim ,'angular')\n",
    "    ft_index = annoy.AnnoyIndex(dim ,'angular')\n",
    "\n",
    "    mapping = {}\n",
    "    counter = 0\n",
    "\n",
    "    for i, line in enumerate(series_tokens):\n",
    "        n_w2v = 0\n",
    "        n_ft = 0\n",
    "        \n",
    "        mapping[counter] = series_origin[i]\n",
    "        vector_w2v = np.zeros(dim)\n",
    "        vector_ft = np.zeros(dim)\n",
    "        for word in line:\n",
    "            if word in modelW2V.wv:\n",
    "                vector_w2v += modelW2V.wv[word]\n",
    "                n_w2v += 1\n",
    "            if word in modelFT.wv:\n",
    "                vector_ft += modelFT.wv[word]\n",
    "                n_ft += 1\n",
    "        if n_w2v > 0:\n",
    "            vector_w2v = vector_w2v / n_w2v\n",
    "        if n_ft > 0:\n",
    "            vector_ft = vector_ft / n_ft\n",
    "        w2v_index.add_item(counter, vector_w2v)\n",
    "        ft_index.add_item(counter, vector_ft)\n",
    "            \n",
    "        counter += 1\n",
    "\n",
    "    w2v_index.build(n_clus)\n",
    "    ft_index.build(n_clus)\n",
    "    return mapping, w2v_index, ft_index"
   ]
  },
  {
   "cell_type": "code",
   "execution_count": 73,
   "metadata": {},
   "outputs": [],
   "source": [
    "def get_response(text, preprocessor, model, index, n_closest, mapping, dim):\n",
    "    tokens = preprocessor(text)\n",
    "    vector = np.zeros(dim)\n",
    "    norm = 0\n",
    "    for t in tokens:\n",
    "        if t in model.wv:\n",
    "            vector += model.wv[t]\n",
    "            norm += 1\n",
    "    if norm > 0:\n",
    "        vector = vector / norm\n",
    "    closests = index.get_nns_by_vector(vector, n_closest)\n",
    "    return [mapping[n] for n in closests]"
   ]
  },
  {
   "cell_type": "markdown",
   "metadata": {},
   "source": [
    "Инициализируем поля-индексы для каждого метода и проверим результат:"
   ]
  },
  {
   "cell_type": "code",
   "execution_count": null,
   "metadata": {},
   "outputs": [],
   "source": [
    "mapping, w2v_index, ft_index = fill_index(builder.df()['prepared_tweet'], builder.df()['tweet'], dim, 10)"
   ]
  },
  {
   "cell_type": "code",
   "execution_count": 74,
   "metadata": {},
   "outputs": [],
   "source": [
    "text = 'как спалось?'"
   ]
  },
  {
   "cell_type": "code",
   "execution_count": 75,
   "metadata": {},
   "outputs": [
    {
     "data": {
      "text/plain": [
       "['Кумарят эти \"прик\", \"нрав\", \"кул\", \"найс\"....тошнит!! ((',\n",
       " 'Кумарят эти \"прик\", \"нрав\", \"кул\", \"найс\"....тошнит!! ((',\n",
       " '@imluluuu окей с:\\nУже лучше, даже насморка почти нет х)',\n",
       " '@Ilya_Chernyak Нежности еще ему захотелось. Затрахаю до крови , а потом перережу горло)',\n",
       " 'Чертов сонный паралич и живот. Съела опять аптеку и не помогает:(']"
      ]
     },
     "execution_count": 75,
     "metadata": {},
     "output_type": "execute_result"
    }
   ],
   "source": [
    "get_response(text, builder.row_prepare, modelW2V, w2v_index, 5, mapping, dim)"
   ]
  },
  {
   "cell_type": "code",
   "execution_count": 76,
   "metadata": {},
   "outputs": [
    {
     "data": {
      "text/plain": [
       "['Ну, да начнётся ночь, надеюсь она не будет очень скучной и надеюсь мне что-нибудь присниться :) хоть я и спать не собираюсь, но подутроустну',\n",
       " 'Надо бы наверно и спать уже ложиться — совсем график сна сбился :)',\n",
       " 'Снились сегодня ужасные сны. Никак не выкину Его из головы. Снился Он и Она. Проснулась в слезах :(',\n",
       " 'RT @kitty_died: Ну каааааак я умудряюсь даже во сне о тебе думать\\nАж снился\\nВстала и опять ты :((((',\n",
       " 'У меня на сон осталось всего 3ч 30м ( да и спать особо не хочется...']"
      ]
     },
     "execution_count": 76,
     "metadata": {},
     "output_type": "execute_result"
    }
   ],
   "source": [
    "get_response(text, builder.row_prepare, modelFT, ft_index, 5, mapping, dim)"
   ]
  },
  {
   "cell_type": "markdown",
   "metadata": {},
   "source": [
    "На первый взгляд метод `Fast Text` справляется куда лучше, однако не было проверено других комбинация при обучении, но даже со стандартными результат виден сразу."
   ]
  }
 ],
 "metadata": {
  "kernelspec": {
   "display_name": "Python 3",
   "language": "python",
   "name": "python3"
  },
  "language_info": {
   "codemirror_mode": {
    "name": "ipython",
    "version": 3
   },
   "file_extension": ".py",
   "mimetype": "text/x-python",
   "name": "python",
   "nbconvert_exporter": "python",
   "pygments_lexer": "ipython3",
   "version": "3.8.5"
  },
  "toc": {
   "base_numbering": 1,
   "nav_menu": {},
   "number_sections": false,
   "sideBar": true,
   "skip_h1_title": false,
   "title_cell": "Table of Contents",
   "title_sidebar": "Contents",
   "toc_cell": false,
   "toc_position": {},
   "toc_section_display": true,
   "toc_window_display": false
  }
 },
 "nbformat": 4,
 "nbformat_minor": 4
}
